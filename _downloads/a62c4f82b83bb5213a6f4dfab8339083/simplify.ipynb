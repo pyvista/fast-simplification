{
  "cells": [
    {
      "cell_type": "markdown",
      "metadata": {},
      "source": [
        "\n# Compare Decimation Methods\n\nThis example compares various decimation methods\n"
      ]
    },
    {
      "cell_type": "code",
      "execution_count": null,
      "metadata": {
        "collapsed": false
      },
      "outputs": [],
      "source": [
        "import time\n\nimport pyvista as pv\nfrom pyvista import examples\n\nimport fast_simplification\n\n# load an example mesh\nmesh = examples.download_louis_louvre()\n\n# nice camera angle\ncpos = [\n    (6.264157141857314, -6.959267635766402, 11.71668951132694),\n    (1.3291685457683413, 2.267162128740896, 12.263240938610595),\n    (0.0023825740958850136, -0.05786378450796799, 0.9983216444528751),\n]"
      ]
    },
    {
      "cell_type": "markdown",
      "metadata": {},
      "source": [
        "Compare decimation times\n\n"
      ]
    },
    {
      "cell_type": "code",
      "execution_count": null,
      "metadata": {
        "collapsed": false
      },
      "outputs": [],
      "source": [
        "reduction = 0.9\nprint(\"Approach                         Time Elapsed\")\n\ntstart = time.time()\nfas_sim = fast_simplification.simplify_mesh(mesh, target_reduction=reduction)\nfast_sim_time = time.time() - tstart\nprint(f\"Fast Quadratic Simplification  {fast_sim_time:8.4f} seconds\")\n\ntstart = time.time()\ndec_std = mesh.decimate(reduction)\ndec_std_time = time.time() - tstart\nprint(f\"vtkQuadricDecimation           {dec_std_time:8.4f} seconds\")\n\ntstart = time.time()\ndec_pro = mesh.decimate_pro(reduction)\ndec_pro_time = time.time() - tstart\nprint(f\"vtkDecimatePro                 {dec_pro_time:8.4f} seconds\")\n\n\npl = pv.Plotter(shape=(2, 2), window_size=(1000, 1000), theme=pv.themes.DocumentTheme())\npl.add_text(\"Original\", \"upper_right\", color=\"k\")\npl.add_mesh(mesh, show_edges=True)\npl.camera_position = cpos\n\npl.subplot(0, 1)\npl.add_text(\n    f\"Fast-Quadric-Mesh-Simplification\\n{fast_sim_time:8.4f} seconds\",\n    \"upper_right\",\n    color=\"k\",\n)\npl.add_mesh(fas_sim, show_edges=True)\npl.camera_position = cpos\n\npl.subplot(1, 0)\npl.add_mesh(dec_std, show_edges=True)\npl.add_text(f\"vtkQuadricDecimation\\n{dec_std_time:8.4f} seconds\", \"upper_right\", color=\"k\")\npl.camera_position = cpos\n\npl.subplot(1, 1)\npl.add_mesh(dec_pro, show_edges=True)\npl.add_text(f\"vtkDecimatePro\\n{dec_pro_time:8.4f} seconds\", \"upper_right\", color=\"k\")\npl.camera_position = cpos\n\npl.show()"
      ]
    }
  ],
  "metadata": {
    "kernelspec": {
      "display_name": "Python 3",
      "language": "python",
      "name": "python3"
    },
    "language_info": {
      "codemirror_mode": {
        "name": "ipython",
        "version": 3
      },
      "file_extension": ".py",
      "mimetype": "text/x-python",
      "name": "python",
      "nbconvert_exporter": "python",
      "pygments_lexer": "ipython3",
      "version": "3.12.11"
    }
  },
  "nbformat": 4,
  "nbformat_minor": 0
}