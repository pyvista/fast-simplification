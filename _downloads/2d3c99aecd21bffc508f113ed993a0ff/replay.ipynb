{
  "cells": [
    {
      "cell_type": "markdown",
      "metadata": {},
      "source": [
        "\n# Replay Decimation\n\nThis example shows how to replay a decimation sequence with replay.\n"
      ]
    },
    {
      "cell_type": "code",
      "execution_count": null,
      "metadata": {
        "collapsed": false
      },
      "outputs": [],
      "source": [
        "from time import time\n\nimport numpy as np\nimport pyvista as pv\nfrom pyvista import examples\n\nimport fast_simplification\n\n\n# Ancillary function to convert triangles to padded faces\ndef triangles_to_faces(triangles):\n    tmp = 3 * np.ones((len(triangles), 4), dtype=triangles.dtype)\n    tmp[:, 1:] = triangles\n    return tmp.copy().reshape(-1)\n\n\n# mesh = examples.download_cow().triangulate().clean()\n\n# cpos = [(12.81184076782852, 0.2698100334791761, -10.82840852844307),\n#  (-5.767085129340097, -0.45822321783537723, 6.935179459234972),\n#  (-0.031039486276564762, 0.99948202301343, 0.008499174352116386)]\n\n\n# load an example mesh\nmesh = examples.download_louis_louvre()\n\n# nice camera angle\ncpos = [\n    (5.428820015861438, -10.151721995577468, 15.902198956656623),\n    (1.4405146331169636, 2.897371104075222, 10.951469667556948),\n    (-0.01001925846458282, 0.3520252491158569, 0.9359368773826251),\n]\n\npoints = mesh.points\ntriangles = mesh.faces.reshape(-1, 4)[:, 1:]\n\n\n# Decimate the mesh with fast_simplification\n# and record the collapses\nstart = time()\ndec_points, dec_triangles, collapses = fast_simplification.simplify(\n    points, triangles, 0.995, return_collapses=True\n)\ntime_simplify = time() - start\n\n# Replay the decimation sequence and record the mapping between\n# the original points and the decimated points\nstart = time()\n(\n    dec_points_replay,\n    dec_triangles_replay,\n    indice_mapping_replay,\n) = fast_simplification.replay_simplification(\n    points=points,\n    triangles=triangles,\n    collapses=collapses,\n)\ntime_replay_new = time() - start\n\n# Partially replay the decimation sequence (90% of the collapses are replayed)\npartial_collapses = collapses[0 : int(0.9 * len(collapses))]\nstart = time()\n(\n    dec_points_replay2,\n    dec_triangles_replay2,\n    indice_mapping_replay2,\n) = fast_simplification.replay_simplification(\n    points=points, triangles=triangles, collapses=partial_collapses\n)\ntime_replay_new = time() - start\n\n# Randomly select two points on the original mesh\nnp.random.seed(1)\ni, j = np.random.randint(0, len(mesh.points), 2)\n\n# Map the indices of the original points to the indices of the decimated points\nm_i = indice_mapping_replay[i]\nm_j = indice_mapping_replay[j]\nm_i2 = indice_mapping_replay2[i]\nm_j2 = indice_mapping_replay2[j]\n\np = pv.Plotter(shape=(2, 2), theme=pv.themes.DocumentTheme())\n\np.subplot(0, 0)\n# Plot the original mesh with the two highlighted points\np.add_mesh(mesh, show_edges=True, color=\"tan\")\np.add_points(mesh.points[i], color=\"red\", point_size=10, render_points_as_spheres=True)\np.add_points(mesh.points[j], color=\"blue\", point_size=10, render_points_as_spheres=True)\np.add_text(\n    f\"Original mesh, {mesh.points.shape[0]} vertices, {triangles.shape[0]} triangles\",\n    font_size=10,\n)\np.camera_position = cpos\n\np.subplot(0, 1)\n# Plot the decimated mesh\np.add_mesh(\n    pv.PolyData(dec_points, faces=triangles_to_faces(dec_triangles)),\n    show_edges=True,\n    color=\"tan\",\n)\np.add_text(\n    f\"Decimated mesh, {dec_points.shape[0]} vertices, {dec_triangles.shape[0]} triangles, took {time_simplify:.2f}s\",\n    font_size=10,\n)\np.camera_position = cpos\n\np.subplot(1, 0)\n# Plot the mesh decimated with replay with the two highlighted points\np.add_mesh(\n    pv.PolyData(dec_points_replay, faces=triangles_to_faces(dec_triangles_replay)),\n    show_edges=True,\n    color=\"tan\",\n)\np.add_points(\n    dec_points_replay[m_i],\n    color=\"red\",\n    point_size=10,\n    render_points_as_spheres=True,\n)\np.add_points(\n    dec_points_replay[m_j],\n    color=\"blue\",\n    point_size=10,\n    render_points_as_spheres=True,\n)\nn_points, n_triangles = dec_points_replay.shape[0], dec_triangles_replay.shape[0]\np.add_text(\n    f\"Replay, {n_points} vertices, {n_triangles} triangles, took {time_replay_new:.2f}s\",\n    font_size=10,\n)\np.camera_position = cpos\n\np.subplot(1, 1)\n# Plot the mesh partially decimated with replay with the two highlighted points\np.add_mesh(\n    pv.PolyData(dec_points_replay2, faces=triangles_to_faces(dec_triangles_replay2)),\n    show_edges=True,\n    color=\"tan\",\n)\np.add_points(\n    dec_points_replay2[m_i2],\n    color=\"red\",\n    point_size=10,\n    render_points_as_spheres=True,\n)\np.add_points(\n    dec_points_replay2[m_j2],\n    color=\"blue\",\n    point_size=10,\n    render_points_as_spheres=True,\n)\nn_points, n_triangles = dec_points_replay2.shape[0], dec_triangles_replay2.shape[0]\np.add_text(\n    f\"Partial replay, {n_points} vertices, {n_triangles} triangles, took {time_replay_new:.2f}s\",\n    font_size=10,\n)\np.camera_position = cpos\n\np.show()"
      ]
    }
  ],
  "metadata": {
    "kernelspec": {
      "display_name": "Python 3",
      "language": "python",
      "name": "python3"
    },
    "language_info": {
      "codemirror_mode": {
        "name": "ipython",
        "version": 3
      },
      "file_extension": ".py",
      "mimetype": "text/x-python",
      "name": "python",
      "nbconvert_exporter": "python",
      "pygments_lexer": "ipython3",
      "version": "3.12.10"
    }
  },
  "nbformat": 4,
  "nbformat_minor": 0
}